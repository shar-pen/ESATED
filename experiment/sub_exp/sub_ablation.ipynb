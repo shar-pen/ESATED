{
 "cells": [
  {
   "cell_type": "code",
   "execution_count": null,
   "metadata": {},
   "outputs": [],
   "source": [
    "import os\n",
    "import sys\n",
    "import math\n",
    "import torch\n",
    "import torch.nn as nn\n",
    "import numpy as np\n",
    "import matplotlib.pyplot as plt\n",
    "import pandas as pd\n",
    "\n",
    "\n",
    "sys.path.append('../..')\n",
    "import model.Baseline as baseline\n",
    "import model.my_model as mymodel\n",
    "import model.util_loss as util_ls\n",
    "import model.util_dataloader as util_dl\n",
    "import model.util_model as util_md\n",
    "import data_process.util_data as util_dt\n",
    "\n",
    "\n",
    "device = torch.device(\"cuda:0\" if torch.cuda.is_available() else \"cpu\")\n",
    "print(\"The model will be running on\", device, \"device\")\n",
    "\n",
    "# local\n",
    "file_save_dir = r'C:\\Users\\29492\\Desktop\\exp12'\n",
    "file_load_dir = r'D:\\dataset\\DataFrames\\REDD'\n",
    "# server\n",
    "# file_save_dir = r'../../data'\n",
    "# file_load_dir = r'../../data'\n",
    "dataset_name = 'REDD'\n",
    "file_code = '0103'\n",
    "\n",
    "dm = util_md.DictManager(file_save_dir)\n",
    "mwm = util_md.ModelWeightManager(file_save_dir)"
   ]
  },
  {
   "cell_type": "code",
   "execution_count": null,
   "metadata": {},
   "outputs": [],
   "source": [
    "dataframe_path = os.path.join(file_load_dir, r'house_1.csv')\n",
    "df = pd.read_csv(dataframe_path)\n",
    "df.set_index('time', inplace=True)\n",
    "# df.describe(percentiles=[0.10,0.25,0.50,0.75,0.8,0.85,0.9,0.95])\n",
    "\n",
    "\n",
    "house_1_cols = ['oven-3', 'oven-4', 'refrigerator-5', 'dishwaser-6', 'lighting-9',\n",
    "                'washer_dryer-10', 'microwave-11', 'bathroom_gfi-12', 'electric_heat-13', 'stove-14',\n",
    "                'lighting-17', 'lighting-18', 'washer_dryer-19', 'washer_dryer-20']\n",
    "filtered_columns = df[house_1_cols]\n",
    "# filtered_columns.describe(percentiles=[0.10,0.25,0.50,0.6,0.75,0.8,0.85,0.9,0.95])\n",
    "\n",
    "\n",
    "apps_name = filtered_columns.columns.to_list()\n",
    "print(apps_name)\n",
    "\n",
    "\n",
    "filtered_columns['sum'] = filtered_columns.sum(axis=1)\n",
    "norm_data, min_val, max_val = util_dt.normalization_interval(filtered_columns.to_numpy(), 0, 1)\n",
    "main = norm_data[:,-1]\n",
    "apps = norm_data[:,:-1]\n",
    "print(f'min: {min_val}; max: {max_val}')\n",
    "print(np.min(main), np.max(main))\n",
    "print(np.min(apps), np.max(apps))\n",
    "util_dt.print_shape(main, apps)\n",
    "\n",
    "\n",
    "on_threshold = [50, 50, 50, 50, 20, 50, 50, 50, 50, 50, 20, 20, 50, 50]\n",
    "sliding_window_len = 599"
   ]
  },
  {
   "cell_type": "code",
   "execution_count": null,
   "metadata": {},
   "outputs": [],
   "source": [
    "in_seq_l = sliding_window_len\n",
    "out_dim = len(apps_name)\n",
    "print(f'in_seq_l: {in_seq_l}; out_dim: {out_dim}')\n",
    "\n",
    "loss_factor=max_val-min_val\n",
    "print(f'loss_factor:{loss_factor}')\n",
    "\n",
    "\n",
    "metric_dict_one2all = {'MAE(apps)':util_ls.MAE(single_class=False),\n",
    "                       'MAE(mean)':util_ls.MAE(single_class=True),\n",
    "                'SAE(apps)':util_ls.SignalAggregateError(single_class=False, period_len=450),\n",
    "                'SAE(mean)':util_ls.SignalAggregateError(single_class=True, period_len=450),\n",
    "                'MAE(offon)':util_ls.MAE_off_on(single_class=False)}\n",
    "\n",
    "\n",
    "w_main, w_apps = util_dt.generate_window_samples(input_1=main, input_2=apps, window_size_1=sliding_window_len,\n",
    "                                     window_size_2=1, offset=math.floor(sliding_window_len/2))\n",
    "w_main = np.expand_dims(w_main, axis=1)\n",
    "w_apps_sum = w_apps.sum(axis=-1)\n",
    "w_apps_sum = np.expand_dims(w_apps_sum, axis=1)\n",
    "w_apps_on = (w_apps>(on_threshold-min_val)/(max_val-min_val)).astype('int')\n",
    "util_dt.print_shape(w_main, w_apps, w_apps_sum, w_apps_on)"
   ]
  },
  {
   "cell_type": "code",
   "execution_count": null,
   "metadata": {},
   "outputs": [],
   "source": [
    "b_s = 450*60\n",
    "eval_b_s = 450*60"
   ]
  },
  {
   "cell_type": "markdown",
   "metadata": {},
   "source": [
    "# SS (strong supervision)"
   ]
  },
  {
   "cell_type": "markdown",
   "metadata": {},
   "source": [
    "## Baseline"
   ]
  },
  {
   "cell_type": "code",
   "execution_count": null,
   "metadata": {},
   "outputs": [],
   "source": [
    "exp_num = 3\n",
    "epoch_n = 20\n",
    "\n",
    "dataset = util_dl.VariableDataset(torch.from_numpy(w_main).to(torch.float32),\n",
    "                                      torch.from_numpy(w_apps).to(torch.float32),\n",
    "                                      torch.from_numpy(w_apps_on).to(torch.float32))\n",
    "\n",
    "subset_1, subset_2 = util_dl.split_Dataset_orderly(dataset, [0.8,0.2])\n",
    "trainset, valset = util_dl.split_to_DataLoader_randomly(dataset=subset_1, split_ratio=[0.75,0.25], batch_size=b_s, shuffle_flag=True)\n",
    "testset = util_dl.just_to_DataLoader(dataset=subset_2, batch_size=b_s, shuffle_flag=False)\n",
    "del dataset, subset_1, subset_2\n",
    "\n",
    "for i in range(exp_num):\n",
    "    model = mymodel.AblationMark_baseline(in_seq_l, out_dim)\n",
    "    score_train_vali = util_md.train_val(device, model, epoch_n, trainset, valset, loss_factor=loss_factor,\n",
    "                                         return_metric_dict=metric_dict_one2all, decay_params=[5,0.5])\n",
    "    score_test = util_md.train_val(device, model, valset=testset, loss_factor=loss_factor,\n",
    "                                         return_metric_dict=metric_dict_one2all)\n",
    "    total_record = {'train_vali':score_train_vali, 'test':score_test}\n",
    "    filename = '{dataset}_{model}_{appname}_{date}'.format(dataset=dataset_name,model=type(model).__name__\n",
    "                                                           ,appname='all',date=f'{file_code}-{i}')\n",
    "    dm.save_dict(total_record, filename)\n",
    "    mwm.save_model_weight(model, filename)"
   ]
  },
  {
   "cell_type": "markdown",
   "metadata": {},
   "source": [
    "# WS (weak supervision)"
   ]
  },
  {
   "cell_type": "code",
   "execution_count": null,
   "metadata": {},
   "outputs": [],
   "source": [
    "dataset = util_dl.VariableDataset(torch.from_numpy(w_main).to(torch.float32),\n",
    "                            torch.from_numpy(w_apps_on).to(torch.float32),\n",
    "                            torch.from_numpy(w_apps_sum).to(torch.float32),\n",
    "                            torch.from_numpy(w_apps).to(torch.float32))\n",
    "dataset.describe()\n",
    "subset_1, subset_2 = util_dl.split_Dataset_orderly(dataset, [0.8,0.2])\n",
    "trainset, valset = util_dl.split_to_DataLoader_randomly(dataset=subset_1, split_ratio=[0.75,0.25],\n",
    "                                                        batch_size=b_s, shuffle_flag=True)\n",
    "testset = util_dl.just_to_DataLoader(dataset=subset_2, batch_size=eval_b_s, shuffle_flag=False)\n",
    "del dataset, subset_1, subset_2"
   ]
  },
  {
   "cell_type": "markdown",
   "metadata": {},
   "source": [
    "## WS"
   ]
  },
  {
   "cell_type": "code",
   "execution_count": null,
   "metadata": {},
   "outputs": [],
   "source": [
    "exp_num = 3\n",
    "epoch_n = 50\n",
    "\n",
    "for i in range(exp_num):\n",
    "    model = mymodel.AblationMark_Ws(in_seq_l, out_dim)\n",
    "    score_train_vali = util_md.train_val_Mark(device, model, epoch_n, trainset, valset, loss_factor=loss_factor,\n",
    "                                         return_metric_dict=metric_dict_one2all, decay_params=[10,0.5])\n",
    "    score_test = util_md.train_val_Mark(device, model, valset=testset, loss_factor=loss_factor,\n",
    "                                         return_metric_dict=metric_dict_one2all)\n",
    "    total_record = {'train_vali':score_train_vali, 'test':score_test}\n",
    "    filename = '{dataset}_{model}_{appname}_{date}'.format(dataset=dataset_name,model=type(model).__name__\n",
    "                                                           ,appname='all',date=f'{file_code}-{i}')\n",
    "    dm.save_dict(total_record, filename)\n",
    "    mwm.save_model_weight(model, filename)"
   ]
  },
  {
   "cell_type": "markdown",
   "metadata": {},
   "source": [
    "## WS+MTL"
   ]
  },
  {
   "cell_type": "code",
   "execution_count": null,
   "metadata": {},
   "outputs": [],
   "source": [
    "exp_num = 10\n",
    "epoch_n = 50·\n",
    "\n",
    "for i in range(exp_num):\n",
    "    model = mymodel.AblationMark_Ws_Mtl(in_seq_l, out_dim)\n",
    "    score_train_vali, score_train_vali_clas = util_md.train_val_Mark_DoubleTask(device, model, epoch_n, trainset, valset, loss_reg_factor=loss_factor,\n",
    "                                         return_metric_reg_dict=metric_dict_one2all, decay_params=[10,0.5])\n",
    "    score_test, score_test_clas = util_md.train_val_Mark_DoubleTask(device, model, valset=testset, loss_reg_factor=loss_factor,\n",
    "                                         return_metric_reg_dict=metric_dict_one2all)\n",
    "    total_record = {'train_vali':score_train_vali, 'test':score_test,\n",
    "                    'train_vali_clas':score_train_vali_clas, 'test_clas':score_test_clas}\n",
    "    filename = '{dataset}_{model}_{appname}_{date}'.format(dataset=dataset_name,model=type(model).__name__\n",
    "                                                           ,appname='all',date=f'{file_code}-{i}')\n",
    "    dm.save_dict(total_record, filename)\n",
    "    mwm.save_model_weight(model, filename)"
   ]
  },
  {
   "cell_type": "markdown",
   "metadata": {},
   "source": [
    "# Single-task learning    state classification"
   ]
  },
  {
   "cell_type": "code",
   "execution_count": null,
   "metadata": {},
   "outputs": [],
   "source": [
    "exp_num = 3\n",
    "epoch_n = 20\n",
    "\n",
    "\n",
    "dataset = util_dl.VariableDataset(torch.from_numpy(w_main).to(torch.float32),\n",
    "                                      torch.from_numpy(w_apps_on).to(torch.float32))\n",
    "\n",
    "subset_1, subset_2 = util_dl.split_Dataset_orderly(dataset, [0.8,0.2])\n",
    "trainset, valset = util_dl.split_to_DataLoader_randomly(dataset=subset_1, split_ratio=[0.75,0.25], batch_size=b_s, shuffle_flag=True)\n",
    "testset = util_dl.just_to_DataLoader(dataset=subset_2, batch_size=b_s, shuffle_flag=False)\n",
    "del dataset, subset_1, subset_2\n",
    "\n",
    "\n",
    "return_metric_clas_dict={'Acc(apps)':util_ls.LogitAccuracy(reduction='none'), 'Acc(mean)':util_ls.LogitAccuracy()}\n",
    "\n",
    "for i in range(exp_num):\n",
    "    model = mymodel.AblationMark_classification(in_seq_l, out_dim)\n",
    "    score_train_vali = util_md.train_val(device, model, epoch_n, trainset, valset, loss_fn=nn.BCEWithLogitsLoss(),\n",
    "                                         return_metric_dict=return_metric_clas_dict, decay_params=[5,0.5])\n",
    "    score_test = util_md.train_val(device, model, valset=testset, loss_fn=nn.BCEWithLogitsLoss(),\n",
    "                                         return_metric_dict=return_metric_clas_dict)\n",
    "    total_record = {'train_vali':score_train_vali, 'test':score_test}\n",
    "    filename = '{dataset}_{model}_{appname}_{date}'.format(dataset=dataset_name,model=type(model).__name__\n",
    "                                                           ,appname='all',date=f'{file_code}-{i}')\n",
    "    dm.save_dict(total_record, filename)\n",
    "    mwm.save_model_weight(model, filename)"
   ]
  },
  {
   "cell_type": "markdown",
   "metadata": {},
   "source": [
    "# WS+MTL+ALW"
   ]
  },
  {
   "cell_type": "code",
   "execution_count": null,
   "metadata": {},
   "outputs": [],
   "source": [
    "exp_num = 10\n",
    "epoch_n = 50\n",
    "\n",
    "for i in range(exp_num):\n",
    "    model = mymodel.AblationMark_Ws_Mtl_Alw(in_seq_l, out_dim)\n",
    "    score_train_vali, score_train_vali_clas = util_md.train_val_Mark_DoubleTask_AutomaticWeightedLoss(device, model, epoch_n, trainset, valset, loss_reg_factor=loss_factor,\n",
    "                                         return_metric_reg_dict=metric_dict_one2all, decay_params=[10,0.5])\n",
    "    score_test, score_test_clas = util_md.train_val_Mark_DoubleTask_AutomaticWeightedLoss(device, model, valset=testset, loss_reg_factor=loss_factor,\n",
    "                                         return_metric_reg_dict=metric_dict_one2all)\n",
    "    total_record = {'train_vali':score_train_vali, 'test':score_test,\n",
    "                    'train_vali_clas':score_train_vali_clas, 'test_clas':score_test_clas}\n",
    "    filename = '{dataset}_{model}_{appname}_{date}'.format(dataset=dataset_name,model=type(model).__name__\n",
    "                                                           ,appname='all',date=f'{file_code}-AWL2L-{i}')\n",
    "    dm.save_dict(total_record, filename)\n",
    "    mwm.save_model_weight(model, filename)"
   ]
  },
  {
   "cell_type": "code",
   "execution_count": null,
   "metadata": {},
   "outputs": [],
   "source": [
    "exp_num = 10\n",
    "epoch_n = 50\n",
    "\n",
    "for i in range(exp_num):\n",
    "    model = mymodel.AblationMark_Ws_Mtl_Alw(in_seq_l, out_dim)\n",
    "    score_train_vali, score_train_vali_clas = util_md.train_val_Mark_DoubleTask_AutomaticWeightedLoss_1L(device, model, epoch_n, trainset, valset, loss_reg_factor=loss_factor,\n",
    "                                         return_metric_reg_dict=metric_dict_one2all, decay_params=[10,0.5])\n",
    "    score_test, score_test_clas = util_md.train_val_Mark_DoubleTask_AutomaticWeightedLoss_1L(device, model, valset=testset, loss_reg_factor=loss_factor,\n",
    "                                         return_metric_reg_dict=metric_dict_one2all)\n",
    "    total_record = {'train_vali':score_train_vali, 'test':score_test,\n",
    "                    'train_vali_clas':score_train_vali_clas, 'test_clas':score_test_clas}\n",
    "    filename = '{dataset}_{model}_{appname}_{date}'.format(dataset=dataset_name,model=type(model).__name__\n",
    "                                                           ,appname='all',date=f'{file_code}-AWL1L-{i}')\n",
    "    dm.save_dict(total_record, filename)\n",
    "    mwm.save_model_weight(model, filename)"
   ]
  },
  {
   "cell_type": "markdown",
   "metadata": {},
   "source": [
    "## WS+MTL+ALW+SGN"
   ]
  },
  {
   "cell_type": "code",
   "execution_count": null,
   "metadata": {},
   "outputs": [],
   "source": [
    "exp_num = 3\n",
    "epoch_n = 50\n",
    "\n",
    "for i in range(exp_num):\n",
    "    model = mymodel.AblationMark_Ws_Mtl_Alw_Sgns(in_seq_l, out_dim)\n",
    "    score_train_vali, score_train_vali_clas = util_md.train_val_Mark_DoubleTask_AutomaticWeightedLoss(device, model, epoch_n, trainset, valset, loss_reg_factor=loss_factor,\n",
    "                                         return_metric_reg_dict=metric_dict_one2all, decay_params=[10,0.5])\n",
    "    score_test, score_test_clas = util_md.train_val_Mark_DoubleTask_AutomaticWeightedLoss(device, model, valset=testset, loss_reg_factor=loss_factor,\n",
    "                                         return_metric_reg_dict=metric_dict_one2all)\n",
    "    total_record = {'train_vali':score_train_vali, 'test':score_test,\n",
    "                    'train_vali_clas':score_train_vali_clas, 'test_clas':score_test_clas}\n",
    "    filename = '{dataset}_{model}_{appname}_{date}'.format(dataset=dataset_name,model=type(model).__name__\n",
    "                                                           ,appname='all',date=f'{file_code}-{i}')\n",
    "    dm.save_dict(total_record, filename)\n",
    "    mwm.save_model_weight(model, filename)"
   ]
  },
  {
   "cell_type": "code",
   "execution_count": null,
   "metadata": {},
   "outputs": [],
   "source": [
    "exp_num = 3\n",
    "epoch_n = 50\n",
    "\n",
    "for i in range(exp_num):\n",
    "    model = mymodel.AblationMark_Ws_Mtl_Alw_Sgnh(in_seq_l, out_dim)\n",
    "    score_train_vali, score_train_vali_clas = util_md.train_val_Mark_DoubleTask_AutomaticWeightedLoss(device, model, epoch_n, trainset, valset, loss_reg_factor=loss_factor,\n",
    "                                         return_metric_reg_dict=metric_dict_one2all, decay_params=[10,0.5])\n",
    "    score_test, score_test_clas = util_md.train_val_Mark_DoubleTask_AutomaticWeightedLoss(device, model, valset=testset, loss_reg_factor=loss_factor,\n",
    "                                         return_metric_reg_dict=metric_dict_one2all)\n",
    "    total_record = {'train_vali':score_train_vali, 'test':score_test,\n",
    "                    'train_vali_clas':score_train_vali_clas, 'test_clas':score_test_clas}\n",
    "    filename = '{dataset}_{model}_{appname}_{date}'.format(dataset=dataset_name,model=type(model).__name__\n",
    "                                                           ,appname='all',date=f'{file_code}-{i}')\n",
    "    dm.save_dict(total_record, filename)\n",
    "    mwm.save_model_weight(model, filename)"
   ]
  }
 ],
 "metadata": {
  "kernelspec": {
   "display_name": "torch",
   "language": "python",
   "name": "python3"
  },
  "language_info": {
   "name": "python",
   "version": "3.9.16"
  }
 },
 "nbformat": 4,
 "nbformat_minor": 2
}
