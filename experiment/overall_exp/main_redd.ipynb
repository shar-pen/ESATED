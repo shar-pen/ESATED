{
 "cells": [
  {
   "cell_type": "markdown",
   "metadata": {},
   "source": [
    "# import"
   ]
  },
  {
   "cell_type": "code",
   "execution_count": null,
   "metadata": {},
   "outputs": [],
   "source": [
    "import os\n",
    "import sys\n",
    "import math\n",
    "import torch\n",
    "import torch.nn as nn\n",
    "import numpy as np\n",
    "import matplotlib.pyplot as plt\n",
    "import pandas as pd\n",
    "\n",
    "\n",
    "sys.path.append('../..')\n",
    "import model.Baseline as baseline\n",
    "import model.my_model as mymodel\n",
    "import model.util_loss as util_ls\n",
    "import model.util_dataloader as util_dl\n",
    "import model.util_model as util_md\n",
    "import data_process.util_data as util_dt\n",
    "\n",
    "\n",
    "device = torch.device(\"cuda:4\" if torch.cuda.is_available() else \"cpu\")\n",
    "print(\"The model will be running on\", device, \"device\")\n",
    "\n",
    "# local\n",
    "# file_save_dir = r'C:\\Users\\29492\\Desktop\\exp12'\n",
    "# file_load_dir = r'D:\\dataset\\DataFrames\\REDD'\n",
    "# server\n",
    "file_save_dir = r'../../results'\n",
    "file_load_dir = r'../../data'\n",
    "\n",
    "dm = util_md.DictManager(file_save_dir)\n",
    "mwm = util_md.ModelWeightManager(file_save_dir)"
   ]
  },
  {
   "cell_type": "markdown",
   "metadata": {},
   "source": [
    "# prepare data"
   ]
  },
  {
   "cell_type": "code",
   "execution_count": null,
   "metadata": {},
   "outputs": [],
   "source": [
    "dataframe_path = os.path.join(file_load_dir, r'house_1.csv')\n",
    "df = pd.read_csv(dataframe_path)\n",
    "df.set_index('time', inplace=True)\n",
    "# df.describe(percentiles=[0.10,0.25,0.50,0.75,0.8,0.85,0.9,0.95])\n",
    "\n",
    "\n",
    "house_1_cols = ['oven-3', 'oven-4', 'refrigerator-5', 'dishwaser-6', 'lighting-9', 'washer_dryer-10', 'microwave-11',\n",
    "                'bathroom_gfi-12', 'electric_heat-13', 'stove-14', 'lighting-17', 'lighting-18', 'washer_dryer-19', 'washer_dryer-20']\n",
    "filtered_columns = df[house_1_cols]\n",
    "# filtered_columns.describe(percentiles=[0.10,0.25,0.50,0.6,0.75,0.8,0.85,0.9,0.95])\n",
    "\n",
    "\n",
    "apps_name = filtered_columns.columns.to_list()\n",
    "print(apps_name)\n",
    "\n",
    "\n",
    "filtered_columns['sum'] = filtered_columns.sum(axis=1)\n",
    "norm_data, min_val, max_val = util_dt.normalization_interval(filtered_columns.to_numpy(), 0, 1)\n",
    "main = norm_data[:,-1]\n",
    "apps = norm_data[:,:-1]\n",
    "print(f'min: {min_val}; max: {max_val}')\n",
    "print(np.min(main), np.max(main))\n",
    "print(np.min(apps), np.max(apps))\n",
    "util_dt.print_shape(main, apps)\n",
    "\n",
    "\n",
    "on_threshold = [50, 50, 50, 50, 20, 50, 50, 50, 50, 50, 20, 20, 50, 50]\n",
    "sliding_window_len = 599"
   ]
  },
  {
   "cell_type": "code",
   "execution_count": null,
   "metadata": {},
   "outputs": [],
   "source": [
    "in_seq_l = sliding_window_len\n",
    "out_dim = len(apps_name)\n",
    "print(f'in_seq_l: {in_seq_l}; out_dim: {out_dim}')\n",
    "\n",
    "loss_factor=max_val-min_val\n",
    "print(f'loss_factor:{loss_factor}')\n",
    "\n",
    "\n",
    "metric_dict_one2one = {'MAE(apps)':util_ls.MAE(single_class=True),\n",
    "                'SAE':util_ls.SignalAggregateError(single_class=True, period_len=450),\n",
    "                'MAE(offon)':util_ls.MAE_off_on(single_class=True)}\n",
    "metric_dict_one2all = {'MAE(apps)':util_ls.MAE(single_class=False),\n",
    "                       'MAE(mean)':util_ls.MAE(single_class=True),\n",
    "                'SAE(apps)':util_ls.SignalAggregateError(single_class=False, period_len=450),\n",
    "                'SAE(mean)':util_ls.SignalAggregateError(single_class=True, period_len=450),\n",
    "                'MAE(offon)':util_ls.MAE_off_on(single_class=False)}\n",
    "\n",
    "\n",
    "apps_to_train = ['refrigerator-5', 'dishwaser-6', 'washer_dryer-10', 'microwave-11', 'bathroom_gfi-12']\n",
    "for app in apps_to_train:\n",
    "    print(apps_name.index(app), app)"
   ]
  },
  {
   "cell_type": "markdown",
   "metadata": {},
   "source": [
    "# S2P data"
   ]
  },
  {
   "cell_type": "code",
   "execution_count": null,
   "metadata": {},
   "outputs": [],
   "source": [
    "w_main, w_apps = util_dt.generate_window_samples(input_1=main, input_2=apps, window_size_1=sliding_window_len,\n",
    "                                     window_size_2=1, offset=math.floor(sliding_window_len/2))\n",
    "w_main = np.expand_dims(w_main, axis=1)\n",
    "w_apps_sum = w_apps.sum(axis=-1)\n",
    "w_apps_sum = np.expand_dims(w_apps_sum, axis=1)\n",
    "w_apps_on = (w_apps>(on_threshold-min_val)/(max_val-min_val)).astype('int')\n",
    "util_dt.print_shape(w_main, w_apps, w_apps_sum, w_apps_on)"
   ]
  },
  {
   "cell_type": "code",
   "execution_count": null,
   "metadata": {},
   "outputs": [],
   "source": [
    "infodf = pd.DataFrame()\n",
    "\n",
    "infodf['name'] = apps_name\n",
    "infodf['on threshold'] = on_threshold\n",
    "app_on_times = w_apps_on.sum(axis=0)\n",
    "infodf['on count'] = app_on_times\n",
    "infodf['on ratio'] = app_on_times/len(w_apps_on)\n",
    "infodf['on power'] = loss_factor*np.sum(w_apps*w_apps_on, axis=0)/app_on_times\n",
    "\n",
    "print(infodf)"
   ]
  },
  {
   "cell_type": "markdown",
   "metadata": {},
   "source": [
    "# S2P"
   ]
  },
  {
   "cell_type": "code",
   "execution_count": null,
   "metadata": {},
   "outputs": [],
   "source": [
    "epoch_n = 20\n",
    "b_s = 450*10\n",
    "eval_b_s = 450*20\n",
    "\n",
    "\n",
    "for app in apps_to_train:\n",
    "    app_index = apps_name.index(app)\n",
    "    print(app, app_index)\n",
    "    model = baseline.Seq2Point(in_seq_l, 1)\n",
    "    dataset = util_dl.VariableDataset(torch.from_numpy(w_main).to(torch.float32),\n",
    "                                      torch.from_numpy(w_apps[:, app_index:app_index+1]).to(torch.float32),\n",
    "                                      torch.from_numpy(w_apps_on[:, app_index:app_index+1]).to(torch.float32))\n",
    "    dataset.describe()\n",
    "    subset_1, subset_2 = util_dl.split_Dataset_orderly(dataset, [0.8,0.2])\n",
    "    trainset, valset = util_dl.split_to_DataLoader_randomly(dataset=subset_1, split_ratio=[0.75,0.25], batch_size=b_s, shuffle_flag=True)\n",
    "    testset = util_dl.just_to_DataLoader(dataset=subset_2, batch_size=eval_b_s, shuffle_flag=False)\n",
    "\n",
    "    score_train_vali = util_md.train_val(device, model, epoch_n, trainset, valset,\n",
    "                                         loss_factor=loss_factor, return_metric_dict=metric_dict_one2one, decay_params=[10,0.5])\n",
    "    del trainset, valset\n",
    "    score_test = util_md.train_val(device, model, valset=testset, loss_factor=loss_factor,\n",
    "                        return_metric_dict=metric_dict_one2one)\n",
    "    del testset\n",
    "    del dataset, subset_1, subset_2\n",
    "    total_record = {'train_vali':score_train_vali, 'test':score_test}\n",
    "\n",
    "    filename = '{dataset}_{model}_{appname}_{date}'.format(dataset='REDD',model='S2P',appname=app,date='1228')\n",
    "    dm.save_dict(total_record, filename)\n",
    "    mwm.save_model_weight(model, filename)\n"
   ]
  },
  {
   "cell_type": "code",
   "execution_count": null,
   "metadata": {},
   "outputs": [],
   "source": [
    "eval_b_s = 450*20\n",
    "\n",
    "\n",
    "for app in apps_to_train:\n",
    "    app_index = apps_name.index(app)\n",
    "    print(app, app_index)\n",
    "    model = baseline.Seq2Point(in_seq_l, 1)\n",
    "    mwm.load_model_weight(model, '{dataset}_{model}_{appname}_{date}'.format(dataset='REDD',model='S2P',appname=app,date='1228'))\n",
    "    dataset = util_dl.VariableDataset(torch.from_numpy(w_main).to(torch.float32),\n",
    "                                      torch.from_numpy(w_apps[:, app_index:app_index+1]).to(torch.float32),\n",
    "                                      torch.from_numpy(w_apps_on[:, app_index:app_index+1]).to(torch.float32))\n",
    "    dataset.describe()\n",
    "    subset_1, subset_2 = util_dl.split_Dataset_orderly(dataset, [0.8,0.2])\n",
    "    testset = util_dl.just_to_DataLoader(dataset=subset_2, batch_size=eval_b_s, shuffle_flag=False)\n",
    "\n",
    "    score_test = util_md.train_val(device, model, valset=testset, loss_factor=loss_factor,\n",
    "                        return_metric_dict=metric_dict_one2one)"
   ]
  },
  {
   "cell_type": "markdown",
   "metadata": {},
   "source": [
    "# SGN"
   ]
  },
  {
   "cell_type": "code",
   "execution_count": null,
   "metadata": {},
   "outputs": [],
   "source": [
    "epoch_n = 30\n",
    "b_s = 450*20\n",
    "eval_b_s = 450*20\n",
    "\n",
    "\n",
    "\n",
    "print('Batch size: ',b_s)\n",
    "for app in apps_to_train:\n",
    "    app_index = apps_name.index(app)\n",
    "    print(app, app_index)\n",
    "    model = baseline.SGN(in_seq_l)\n",
    "    dataset = util_dl.VariableDataset(torch.from_numpy(w_main).to(torch.float32),\n",
    "                                      torch.from_numpy(w_apps[:, app_index:app_index+1]).to(torch.float32),\n",
    "                                      torch.from_numpy(w_apps_on[:, app_index:app_index+1]).to(torch.float32))\n",
    "    dataset.describe()\n",
    "    subset_1, subset_2 = util_dl.split_Dataset_orderly(dataset, [0.8,0.2])\n",
    "    trainset, valset = util_dl.split_to_DataLoader_randomly(dataset=subset_1, split_ratio=[0.75,0.25], batch_size=b_s, shuffle_flag=True)\n",
    "    testset = util_dl.just_to_DataLoader(dataset=subset_2, batch_size=eval_b_s, shuffle_flag=False)\n",
    "\n",
    "    score_train_vali, _ = util_md.train_val_DoubleTask(device, model, epoch_n, trainset, valset,\n",
    "                                                       loss_reg_factor=loss_factor, return_metric_reg_dict=metric_dict_one2one, decay_params=[10,0.5])\n",
    "    del trainset, valset\n",
    "    score_test, _ = util_md.train_val_DoubleTask(device, model, valset=testset, loss_reg_factor=loss_factor,\n",
    "                        return_metric_reg_dict=metric_dict_one2one)\n",
    "    del testset\n",
    "    del dataset, subset_1, subset_2\n",
    "    total_record = {'train_vali':score_train_vali, 'test':score_test}\n",
    "\n",
    "    filename = '{dataset}_{model}_{appname}_{date}'.format(dataset='REDD',model='SGN',\n",
    "                                                           appname=app,date='0423')\n",
    "    dm.save_dict(total_record, filename)\n",
    "    mwm.save_model_weight(model, filename)"
   ]
  },
  {
   "cell_type": "markdown",
   "metadata": {},
   "source": [
    "# Mark final"
   ]
  },
  {
   "cell_type": "code",
   "execution_count": null,
   "metadata": {},
   "outputs": [],
   "source": [
    "epoch_n = 50\n",
    "b_s = 450*10\n",
    "eval_b_s = 450*20\n",
    "\n",
    "exp_num = 2\n",
    "\n",
    "dataset = util_dl.VariableDataset(torch.from_numpy(w_main).to(torch.float32),\n",
    "                            torch.from_numpy(w_apps_on).to(torch.float32),\n",
    "                            torch.from_numpy(w_apps_sum).to(torch.float32),\n",
    "                            torch.from_numpy(w_apps).to(torch.float32))\n",
    "dataset.describe()\n",
    "subset_1, subset_2 = util_dl.split_Dataset_orderly(dataset, [0.8,0.2])\n",
    "trainset, valset = util_dl.split_to_DataLoader_randomly(dataset=subset_1, split_ratio=[0.75,0.25], batch_size=b_s, shuffle_flag=True)\n",
    "testset = util_dl.just_to_DataLoader(dataset=subset_2, batch_size=eval_b_s, shuffle_flag=False)\n",
    "\n",
    "for i in range(exp_num):\n",
    "\n",
    "    model = mymodel.Model_final(in_seq_l, out_dim)\n",
    "\n",
    "    score_train_vali, _ = util_md.train_val_Mark_DoubleTask_AutomaticWeightedLoss(device, model, epoch_n, trainset, valset,\n",
    "                                        loss_reg_factor=loss_factor, return_metric_reg_dict=metric_dict_one2all, decay_params=[10,0.5])\n",
    "\n",
    "    score_test, _  = util_md.train_val_Mark_DoubleTask_AutomaticWeightedLoss(device, model, valset=testset, loss_reg_factor=loss_factor,\n",
    "                                        return_metric_reg_dict=metric_dict_one2all)\n",
    "\n",
    "    total_record = {'train_vali':score_train_vali, 'test':score_test}\n",
    "    filename = '{dataset}_{model}_{appname}_{date}'.format(dataset='REDD',model='Final',appname='all',date=f'1228-{i}')\n",
    "    dm.save_dict(total_record, filename)\n",
    "    mwm.save_model_weight(model, filename)\n",
    "\n",
    "del trainset, valset, testset"
   ]
  },
  {
   "cell_type": "code",
   "execution_count": null,
   "metadata": {},
   "outputs": [],
   "source": [
    "model = mymodel.Model_final(in_seq_l, out_dim)\n",
    "mwm.load_model_weight(model,'REDD_Final_all_1217-0')\n",
    "score_test, _ = util_md.train_val_Mark_DoubleTask_AutomaticWeightedLoss(device, model, valset=testset, loss_reg_factor=loss_factor,\n",
    "                    return_metric_reg_dict=metric_dict_one2all)"
   ]
  },
  {
   "cell_type": "code",
   "execution_count": null,
   "metadata": {},
   "outputs": [],
   "source": [
    "score_test['val']"
   ]
  },
  {
   "cell_type": "markdown",
   "metadata": {},
   "source": [
    "# S2S"
   ]
  },
  {
   "cell_type": "code",
   "execution_count": null,
   "metadata": {},
   "outputs": [],
   "source": [
    "epoch_n = 20\n",
    "b_s = 450*2\n",
    "eval_b_s = 450*2\n",
    "\n",
    "\n",
    "for app in apps_to_train:\n",
    "    app_index = apps_name.index(app)\n",
    "    print(app, app_index)\n",
    "    model = baseline.Seq2Seq(in_seq_l, in_seq_l)\n",
    "    w_main, w_apps = util_dt.generate_window_samples(input_1=main, input_2=apps[:,app_index], window_size_1=sliding_window_len,\n",
    "                                     window_size_2=sliding_window_len, offset=0)\n",
    "    w_main = np.expand_dims(w_main, axis=1)\n",
    "    # w_apps= np.expand_dims(w_apps, axis=1)\n",
    "    w_apps_on = (w_apps>(on_threshold[app_index]-min_val)/(max_val-min_val)).astype('int')\n",
    "    dataset = util_dl.VariableDataset(torch.from_numpy(w_main).to(torch.float32),\n",
    "                                      torch.from_numpy(w_apps).to(torch.float32),\n",
    "                                      torch.from_numpy(w_apps_on).to(torch.float32))\n",
    "    dataset.describe()\n",
    "    subset_1, subset_2 = util_dl.split_Dataset_orderly(dataset, [0.8,0.2])\n",
    "    trainset, valset = util_dl.split_to_DataLoader_randomly(dataset=subset_1, split_ratio=[0.75,0.25], batch_size=b_s, shuffle_flag=True)\n",
    "    testset = util_dl.just_to_DataLoader(dataset=subset_2, batch_size=eval_b_s, shuffle_flag=False)\n",
    "\n",
    "    score_train_vali = util_md.train_val(device, model, epoch_n, trainset, valset, loss_factor=loss_factor, decay_params=[10,0.5],\n",
    "                                         return_metric_dict=metric_dict_one2one)\n",
    "    del trainset, valset\n",
    "    score_test = util_md.train_val(device, model, valset=testset, loss_factor=loss_factor,\n",
    "                        return_metric_dict=metric_dict_one2one)\n",
    "    del testset\n",
    "    del dataset, subset_1, subset_2\n",
    "    total_record = {'train_vali':score_train_vali, 'test':score_test}\n",
    "\n",
    "    filename = '{dataset}_{model}_{appname}_{date}'.format(dataset='REDD',model='S2S',appname=app,date='1228')\n",
    "    dm.save_dict(total_record, filename)\n",
    "    mwm.save_model_weight(model, filename)"
   ]
  },
  {
   "cell_type": "code",
   "execution_count": null,
   "metadata": {},
   "outputs": [],
   "source": [
    "for app in apps_to_train:\n",
    "    app_index = apps_name.index(app)\n",
    "    print(app, app_index)\n",
    "    model = baseline.Seq2Point(in_seq_l, in_seq_l)\n",
    "    mwm.load_model_weight(model, '{dataset}_{model}_{appname}_{date}'.format(dataset='REDD',model='S2S',appname=app,date='1228'))\n",
    "    w_main, w_apps = util_dt.generate_window_samples(input_1=main, input_2=apps[:,app_index], window_size_1=sliding_window_len,\n",
    "                                     window_size_2=sliding_window_len, offset=0)\n",
    "    w_main = np.expand_dims(w_main, axis=1)\n",
    "    # w_apps= np.expand_dims(w_apps, axis=1)\n",
    "    w_apps_on = (w_apps>(on_threshold[app_index]-min_val)/(max_val-min_val)).astype('int')\n",
    "    dataset = util_dl.VariableDataset(torch.from_numpy(w_main).to(torch.float32),\n",
    "                                      torch.from_numpy(w_apps).to(torch.float32),\n",
    "                                      torch.from_numpy(w_apps_on).to(torch.float32))\n",
    "    dataset.describe()\n",
    "    subset_1, subset_2 = util_dl.split_Dataset_orderly(dataset, [0.8,0.2])\n",
    "    del subset_1\n",
    "    testset = util_dl.just_to_DataLoader(dataset=subset_2, batch_size=eval_b_s, shuffle_flag=False)\n",
    "\n",
    "    score_test = util_md.train_val(device, model, valset=testset, loss_factor=loss_factor,\n",
    "                        return_metric_dict=metric_dict_one2one)"
   ]
  },
  {
   "cell_type": "markdown",
   "metadata": {},
   "source": [
    "# DAE"
   ]
  },
  {
   "cell_type": "code",
   "execution_count": null,
   "metadata": {},
   "outputs": [],
   "source": [
    "epoch_n = 20\n",
    "b_s = 450*2\n",
    "eval_b_s = 450*2\n",
    "\n",
    "\n",
    "for app in apps_to_train:\n",
    "    app_index = apps_name.index(app)\n",
    "    print(app, app_index)\n",
    "    model = baseline.DAE(sliding_window_len)\n",
    "    w_main, w_apps = util_dt.generate_window_samples(input_1=main, input_2=apps[:,app_index], window_size_1=sliding_window_len,\n",
    "                                     window_size_2=sliding_window_len, offset=0)\n",
    "    w_main = np.expand_dims(w_main, axis=1)\n",
    "    w_apps= np.expand_dims(w_apps, axis=1)\n",
    "    w_apps_on = (w_apps>(on_threshold[app_index]-min_val)/(max_val-min_val)).astype('int')\n",
    "    dataset = util_dl.VariableDataset(torch.from_numpy(w_main).to(torch.float32),\n",
    "                                      torch.from_numpy(w_apps).to(torch.float32),\n",
    "                                      torch.from_numpy(w_apps_on).to(torch.float32))\n",
    "    dataset.describe()\n",
    "    subset_1, subset_2 = util_dl.split_Dataset_orderly(dataset, [0.8,0.2])\n",
    "    del dataset\n",
    "    trainset, valset = util_dl.split_to_DataLoader_randomly(dataset=subset_1, split_ratio=[0.75,0.25], batch_size=b_s, shuffle_flag=True)\n",
    "    testset = util_dl.just_to_DataLoader(dataset=subset_2, batch_size=eval_b_s, shuffle_flag=False)\n",
    "\n",
    "    score_train_vali = util_md.train_val(device, model, epoch_n, trainset, valset, loss_factor=loss_factor, decay_params=[10,0.5],\n",
    "                                         return_metric_dict=metric_dict_one2one, lr=5e-4)\n",
    "    del trainset, valset\n",
    "    score_test = util_md.train_val(device, model, valset=testset, loss_factor=loss_factor,\n",
    "                        return_metric_dict=metric_dict_one2one)\n",
    "    del testset\n",
    "    del w_main, w_apps, w_apps_on\n",
    "    total_record = {'train_vali':score_train_vali, 'test':score_test}\n",
    "\n",
    "    filename = '{dataset}_{model}_{appname}_{date}'.format(dataset='REDD',model='DAE',appname=app,date='1228')\n",
    "    dm.save_dict(total_record, filename)\n",
    "    mwm.save_model_weight(model, filename)"
   ]
  },
  {
   "cell_type": "code",
   "execution_count": null,
   "metadata": {},
   "outputs": [],
   "source": [
    "for app in apps_to_train:\n",
    "    app_index = apps_name.index(app)\n",
    "    print(app, app_index)\n",
    "    model = baseline.DAE(sliding_window_len)\n",
    "    mwm.load_model_weight(model, '{dataset}_{model}_{appname}_{date}'.format(dataset='REDD',model='DAE',appname=app,date='1228'))\n",
    "    w_main, w_apps = util_dt.generate_window_samples(input_1=main, input_2=apps[:,app_index], window_size_1=sliding_window_len,\n",
    "                                     window_size_2=sliding_window_len, offset=0)\n",
    "    w_main = np.expand_dims(w_main, axis=1)\n",
    "    w_apps= np.expand_dims(w_apps, axis=1)\n",
    "    w_apps_on = (w_apps>(on_threshold[app_index]-min_val)/(max_val-min_val)).astype('int')\n",
    "    dataset = util_dl.VariableDataset(torch.from_numpy(w_main).to(torch.float32),\n",
    "                                      torch.from_numpy(w_apps).to(torch.float32),\n",
    "                                      torch.from_numpy(w_apps_on).to(torch.float32))\n",
    "    dataset.describe()\n",
    "    subset_1, subset_2 = util_dl.split_Dataset_orderly(dataset, [0.8,0.2])\n",
    "    del dataset, subset_1\n",
    "    testset = util_dl.just_to_DataLoader(dataset=subset_2, batch_size=eval_b_s, shuffle_flag=False)\n",
    "\n",
    "    score_test = util_md.train_val(device, model, valset=testset, loss_factor=loss_factor,\n",
    "                        return_metric_dict=metric_dict_one2one)"
   ]
  }
 ],
 "metadata": {
  "kernelspec": {
   "display_name": "torch",
   "language": "python",
   "name": "python3"
  },
  "language_info": {
   "codemirror_mode": {
    "name": "ipython",
    "version": 3
   },
   "file_extension": ".py",
   "mimetype": "text/x-python",
   "name": "python",
   "nbconvert_exporter": "python",
   "pygments_lexer": "ipython3",
   "version": "3.9.16"
  }
 },
 "nbformat": 4,
 "nbformat_minor": 2
}
