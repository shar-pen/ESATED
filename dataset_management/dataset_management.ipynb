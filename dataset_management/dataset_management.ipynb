{
 "cells": [
  {
   "attachments": {},
   "cell_type": "markdown",
   "metadata": {},
   "source": [
    "# Global import"
   ]
  },
  {
   "cell_type": "code",
   "execution_count": null,
   "metadata": {},
   "outputs": [],
   "source": [
    "import pandas as pd\n",
    "import matplotlib.pyplot as plt\n",
    "import time\n",
    "import os\n",
    "import sys\n",
    "from datetime import datetime, timedelta\n",
    "\n",
    "sys.path.append('..')\n",
    "from dataset_management.redd.REDD import REDD\n",
    "from dataset_management.ukdale.UKDALE import UKDALE\n",
    "\n",
    "\n",
    "%matplotlib qt"
   ]
  },
  {
   "cell_type": "code",
   "execution_count": null,
   "metadata": {},
   "outputs": [],
   "source": [
    "from collections import Counter\n",
    "in_path=r'D:\\dataset\\REDD\\low_freq'\n",
    "Appliances = []\n",
    "Houses=[1,2,3,4,5,6]\n",
    "for h in Houses:\n",
    "    house_path = os.path.join(in_path, 'house_'+str(h))\n",
    "    labels = pd.read_csv(os.path.join(house_path, 'labels.dat'),header=None,delimiter=' ',\n",
    "                                 usecols=[0,1], names=['channel', 'appliance_name'])\n",
    "    house_apps = list(labels['appliance_name'])\n",
    "    print(f'House {h} apps({len(house_apps)}):{house_apps}')\n",
    "    Appliances = Appliances + house_apps"
   ]
  },
  {
   "cell_type": "code",
   "execution_count": null,
   "metadata": {},
   "outputs": [],
   "source": [
    "counter = Counter(Appliances)\n",
    "\n",
    "for element, count in counter.items():\n",
    "    print(f\"{element}: {count}\")"
   ]
  },
  {
   "attachments": {},
   "cell_type": "markdown",
   "metadata": {},
   "source": [
    "# REDD batch to_dataframe"
   ]
  },
  {
   "cell_type": "code",
   "execution_count": null,
   "metadata": {},
   "outputs": [],
   "source": [
    "redd = REDD(in_path=r'D:\\dataset\\REDD\\low_freq', out_path=r'D:\\dataset\\DataFrames\\REDD')\n",
    "redd.to_Dataframe(Houses=[1,2,3,4,5,6], sample_seconds=8)"
   ]
  },
  {
   "cell_type": "markdown",
   "metadata": {},
   "source": [
    "# read dataframe"
   ]
  },
  {
   "cell_type": "code",
   "execution_count": null,
   "metadata": {},
   "outputs": [],
   "source": [
    "df = pd.read_csv(r'D:\\dataset\\DataFrames\\REDD\\house_3.csv')\n",
    "df.describe()"
   ]
  },
  {
   "cell_type": "code",
   "execution_count": null,
   "metadata": {},
   "outputs": [],
   "source": [
    "p_main = df.filter(regex='^main').sum(axis=1).to_numpy()\n",
    "p_sum = df.filter(regex='^(?!.*main)').sum(axis=1).to_numpy()"
   ]
  },
  {
   "cell_type": "code",
   "execution_count": null,
   "metadata": {},
   "outputs": [],
   "source": [
    "plt.plot(p_main[0:10000])\n",
    "plt.plot(p_sum[0:10000])"
   ]
  },
  {
   "cell_type": "code",
   "execution_count": null,
   "metadata": {},
   "outputs": [],
   "source": [
    "filtered_columns = df.filter(regex='^(?!.*main)')\n",
    "filtered_columns.describe()"
   ]
  },
  {
   "cell_type": "code",
   "execution_count": null,
   "metadata": {},
   "outputs": [],
   "source": [
    "plt.plot(df.loc[df['time'].str.startswith('2011-04-19'), 'mains'])\n",
    "plt.plot(df.loc[df['time'].str.startswith('2011-04-19'), 'dishwaser'])"
   ]
  },
  {
   "cell_type": "markdown",
   "metadata": {},
   "source": [
    "# UKDALE batch to_dataframe"
   ]
  },
  {
   "cell_type": "code",
   "execution_count": null,
   "metadata": {},
   "outputs": [],
   "source": [
    "ukdale = UKDALE(in_path=r'D:\\dataset\\uk-dale-disaggregated', out_path=r'D:\\dataset\\DataFrames\\UKDALE')\n",
    "ukdale.to_Dataframe_V2(Houses=[1,2,3,4], sample_seconds=8)"
   ]
  },
  {
   "cell_type": "markdown",
   "metadata": {},
   "source": [
    "# Cut"
   ]
  },
  {
   "cell_type": "code",
   "execution_count": null,
   "metadata": {},
   "outputs": [],
   "source": [
    "import os\n",
    "import sys\n",
    "import math\n",
    "import torch\n",
    "import torch.nn as nn\n",
    "import numpy as np\n",
    "import matplotlib.pyplot as plt\n",
    "import pandas as pd\n",
    "\n",
    "\n",
    "sys.path.append('..')\n",
    "import data_process.util_data as util_dt\n",
    "\n",
    "\n",
    "\n",
    "# local\n",
    "file_save_dir = r'C:\\Users\\29492\\Desktop\\exp12'\n",
    "file_load_dir = r'D:\\dataset\\DataFrames\\UKDALE'\n",
    "# server\n",
    "# file_save_dir = r'../../data'\n",
    "# file_load_dir = r'../../data'"
   ]
  },
  {
   "cell_type": "code",
   "execution_count": null,
   "metadata": {},
   "outputs": [],
   "source": [
    "dataframe_path = os.path.join(file_load_dir, r'house_1.csv')\n",
    "df = pd.read_csv(dataframe_path)\n",
    "df.set_index('time', inplace=True)\n",
    "df = df.filter(regex=r'^(?!aggregate)')\n",
    "\n",
    "total_len = len(df)\n",
    "num_sample_per_day = int(60*60*24/8)\n",
    "num_days = total_len/num_sample_per_day"
   ]
  },
  {
   "cell_type": "code",
   "execution_count": null,
   "metadata": {},
   "outputs": [],
   "source": [
    "num_day_needed = 5*7\n",
    "on_threshold = 30\n",
    "max_value = 0\n",
    "j = 0\n",
    "for i in range(int(num_days-num_day_needed-1)):\n",
    "    print(i)\n",
    "    df_cut = df[i*num_sample_per_day: (i+num_day_needed)*num_sample_per_day]\n",
    "    data = df_cut.to_numpy()\n",
    "    apps_on = (data>on_threshold).astype('int')\n",
    "    # apps_on_num = apps_on.sum(axis=0)\n",
    "    # apps_on_percent = apps_on.mean(axis=0)\n",
    "    apps_on_percent = apps_on.mean()\n",
    "    if apps_on_percent>max_value:\n",
    "        max_value = apps_on_percent\n",
    "        j=i\n",
    "\n",
    "print('-'*20, j, '-'*20)"
   ]
  },
  {
   "cell_type": "code",
   "execution_count": null,
   "metadata": {},
   "outputs": [],
   "source": [
    "df_cut = df[j*num_sample_per_day: (j+num_day_needed)*num_sample_per_day]\n",
    "data = df_cut.to_numpy()\n",
    "\n",
    "apps_on = (data>on_threshold).astype('int')\n",
    "apps_on_num = apps_on.sum(axis=0)\n",
    "apps_on_percent = apps_on.mean(axis=0)\n",
    "\n",
    "df_statistical = pd.DataFrame({'apps_on_num':apps_on_num, 'apps_on_percent':apps_on_percent},index=df.columns.to_list())"
   ]
  },
  {
   "cell_type": "code",
   "execution_count": null,
   "metadata": {},
   "outputs": [],
   "source": [
    "sorted_df = df_statistical.sort_values(by='apps_on_percent',ascending=False)\n",
    "sorted_df['num'] = range(1,len(sorted_df)+1)\n",
    "sorted_df"
   ]
  },
  {
   "cell_type": "code",
   "execution_count": null,
   "metadata": {},
   "outputs": [],
   "source": [
    "df_filtered = df_cut[sorted_df[0:30].index]"
   ]
  },
  {
   "cell_type": "code",
   "execution_count": null,
   "metadata": {},
   "outputs": [],
   "source": [
    "df_filtered.to_csv(os.path.join(file_load_dir, r'house_1_filtered_5W.csv'))"
   ]
  },
  {
   "cell_type": "markdown",
   "metadata": {},
   "source": [
    "# combine"
   ]
  },
  {
   "cell_type": "code",
   "execution_count": null,
   "metadata": {},
   "outputs": [],
   "source": [
    "import os\n",
    "import sys\n",
    "import math\n",
    "import torch\n",
    "import torch.nn as nn\n",
    "import numpy as np\n",
    "import matplotlib.pyplot as plt\n",
    "import pandas as pd\n",
    "\n",
    "\n",
    "sys.path.append('..')\n",
    "import data_process.util_data as util_dt\n",
    "\n",
    "\n",
    "\n",
    "# local\n",
    "file_save_dir = r'C:\\Users\\29492\\Desktop\\exp12'\n",
    "file_load_dir = r'D:\\dataset\\DataFrames\\REDD'\n",
    "# server\n",
    "# file_save_dir = r'../../data'\n",
    "# file_load_dir = r'../../data'"
   ]
  },
  {
   "cell_type": "code",
   "execution_count": null,
   "metadata": {},
   "outputs": [],
   "source": [
    "on_threshold = 30\n",
    "\n",
    "app_name = set()\n",
    "for i in range(1,7):\n",
    "    print(f'House {i}')\n",
    "    dataframe_path = os.path.join(file_load_dir, f'house_{i}.csv')\n",
    "    df = pd.read_csv(dataframe_path)\n",
    "    df.set_index('time', inplace=True)\n",
    "    df = df.filter(regex=r'^(?!main)')\n",
    "\n",
    "    data = df.to_numpy()\n",
    "    apps_on = (data>on_threshold).astype('int')\n",
    "    apps_on_percent = apps_on.mean(axis=0)\n",
    "\n",
    "    df_statistical = pd.DataFrame({'apps_on_percent':apps_on_percent},index=df.columns.to_list())\n",
    "    print(df_statistical)\n",
    "\n",
    "    app_name = app_name.union(set([element.split('-')[0] for element in df.columns.to_list()]))"
   ]
  },
  {
   "cell_type": "code",
   "execution_count": null,
   "metadata": {},
   "outputs": [],
   "source": [
    "set1 = {1, 2, 3, 4}\n",
    "set2 = {3, 4, 5, 6}\n",
    "\n",
    "union_set = set1.union(set2)\n",
    "\n",
    "print(union_set)\n"
   ]
  }
 ],
 "metadata": {
  "kernelspec": {
   "display_name": "pytorch",
   "language": "python",
   "name": "python3"
  },
  "language_info": {
   "codemirror_mode": {
    "name": "ipython",
    "version": 3
   },
   "file_extension": ".py",
   "mimetype": "text/x-python",
   "name": "python",
   "nbconvert_exporter": "python",
   "pygments_lexer": "ipython3",
   "version": "3.9.16"
  },
  "orig_nbformat": 4,
  "vscode": {
   "interpreter": {
    "hash": "d9d92f95d9487b068436df4d94f372f0da7e41bcf42c314da5c6aa096efcffe3"
   }
  }
 },
 "nbformat": 4,
 "nbformat_minor": 2
}
